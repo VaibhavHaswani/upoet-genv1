{
 "cells": [
  {
   "cell_type": "markdown",
   "metadata": {},
   "source": [
    "### Fetching Data"
   ]
  },
  {
   "cell_type": "code",
   "execution_count": 6,
   "metadata": {},
   "outputs": [
    {
     "name": "stdout",
     "output_type": "stream",
     "text": [
      "--2020-09-25 19:32:50--  https://storage.googleapis.com/laurencemoroney-blog.appspot.com/irish-lyrics-eof.txt\n",
      "Resolving storage.googleapis.com (storage.googleapis.com)... 2404:6800:4002:807::2010, 2404:6800:4002:808::2010, 2404:6800:4002:803::2010, ...\n",
      "Connecting to storage.googleapis.com (storage.googleapis.com)|2404:6800:4002:807::2010|:443... connected.\n",
      "HTTP request sent, awaiting response... 200 OK\n",
      "Length: 68970 (67K) [text/plain]\n",
      "Saving to: ‘./data/irish_poem.txt’\n",
      "\n",
      "./data/irish_poem.t 100%[===================>]  67.35K   328KB/s    in 0.2s    \n",
      "\n",
      "2020-09-25 19:32:52 (328 KB/s) - ‘./data/irish_poem.txt’ saved [68970/68970]\n",
      "\n"
     ]
    }
   ],
   "source": [
    "!wget https://storage.googleapis.com/laurencemoroney-blog.appspot.com/irish-lyrics-eof.txt -O ./data/irish_poem.txt"
   ]
  },
  {
   "cell_type": "markdown",
   "metadata": {},
   "source": [
    "### Importing Libraries"
   ]
  },
  {
   "cell_type": "code",
   "execution_count": 1,
   "metadata": {},
   "outputs": [],
   "source": [
    "import tensorflow as tf\n",
    "import numpy as np \n",
    "import matplotlib.pyplot as plt\n",
    "from tensorflow.keras.preprocessing.text import Tokenizer\n",
    "from tensorflow.keras.layers import Embedding,LSTM,Bidirectional,Dense\n",
    "from tensorflow.keras.optimizers import Adam\n",
    "from tensorflow.keras.preprocessing.sequence import pad_sequences"
   ]
  },
  {
   "cell_type": "markdown",
   "metadata": {},
   "source": [
    "## Getting Data Ready"
   ]
  },
  {
   "cell_type": "code",
   "execution_count": 2,
   "metadata": {},
   "outputs": [],
   "source": [
    "data=open('./data/irish_poem.txt','r').read()"
   ]
  },
  {
   "cell_type": "code",
   "execution_count": 3,
   "metadata": {},
   "outputs": [],
   "source": [
    "corpus=data.lower().split(\"\\n\")"
   ]
  },
  {
   "cell_type": "markdown",
   "metadata": {},
   "source": [
    "#### Tokenizing data"
   ]
  },
  {
   "cell_type": "code",
   "execution_count": 4,
   "metadata": {},
   "outputs": [],
   "source": [
    "tokenizer=Tokenizer()\n",
    "tokenizer.fit_on_texts(corpus)\n",
    "total_words=len(tokenizer.word_index)+1"
   ]
  },
  {
   "cell_type": "code",
   "execution_count": 5,
   "metadata": {},
   "outputs": [
    {
     "data": {
      "text/plain": [
       "2690"
      ]
     },
     "execution_count": 5,
     "metadata": {},
     "output_type": "execute_result"
    }
   ],
   "source": [
    "total_words"
   ]
  },
  {
   "cell_type": "markdown",
   "metadata": {},
   "source": [
    "#### Turning data into Sequential data for Training"
   ]
  },
  {
   "cell_type": "code",
   "execution_count": 6,
   "metadata": {},
   "outputs": [],
   "source": [
    "sequences=[]\n",
    "for sentence in corpus:\n",
    "    token=tokenizer.texts_to_sequences([sentence])[0]\n",
    "    for i in range(1,len(token)):\n",
    "        sequences.append(token[:i+1])"
   ]
  },
  {
   "cell_type": "code",
   "execution_count": 7,
   "metadata": {},
   "outputs": [],
   "source": [
    "max_length=max([len(seq) for seq in sequences]) #getting max sequence length"
   ]
  },
  {
   "cell_type": "code",
   "execution_count": 8,
   "metadata": {},
   "outputs": [
    {
     "data": {
      "text/plain": [
       "16"
      ]
     },
     "execution_count": 8,
     "metadata": {},
     "output_type": "execute_result"
    }
   ],
   "source": [
    "max_length"
   ]
  },
  {
   "cell_type": "code",
   "execution_count": 9,
   "metadata": {},
   "outputs": [],
   "source": [
    "#padding the sequence to max length\n",
    "final_sequences=np.array(pad_sequences(sequences,maxlen=max_length,padding='pre'))"
   ]
  },
  {
   "cell_type": "markdown",
   "metadata": {},
   "source": [
    "#### Splitting into x sequences and onehot encoded labels"
   ]
  },
  {
   "cell_type": "code",
   "execution_count": 10,
   "metadata": {},
   "outputs": [],
   "source": [
    "xs=final_sequences[:,:-1]\n",
    "labels=final_sequences[:,-1]"
   ]
  },
  {
   "cell_type": "code",
   "execution_count": 11,
   "metadata": {},
   "outputs": [],
   "source": [
    "#One hot encoding labels\n",
    "ys=tf.keras.utils.to_categorical(labels,num_classes=total_words)"
   ]
  },
  {
   "cell_type": "markdown",
   "metadata": {},
   "source": [
    "## Creating Model"
   ]
  },
  {
   "cell_type": "code",
   "execution_count": 12,
   "metadata": {},
   "outputs": [],
   "source": [
    "model=tf.keras.Sequential()\n",
    "model.add(Embedding(total_words,100,input_length=max_length-1))\n",
    "model.add(Bidirectional(LSTM(150)))\n",
    "model.add(Dense(total_words,activation='softmax'))\n",
    "\n",
    "model.compile(loss=\"categorical_crossentropy\",optimizer=Adam(lr=0.01),metrics=['accuracy'])"
   ]
  },
  {
   "cell_type": "code",
   "execution_count": 13,
   "metadata": {},
   "outputs": [
    {
     "name": "stdout",
     "output_type": "stream",
     "text": [
      "Model: \"sequential\"\n",
      "_________________________________________________________________\n",
      "Layer (type)                 Output Shape              Param #   \n",
      "=================================================================\n",
      "embedding (Embedding)        (None, 15, 100)           269000    \n",
      "_________________________________________________________________\n",
      "bidirectional (Bidirectional (None, 300)               301200    \n",
      "_________________________________________________________________\n",
      "dense (Dense)                (None, 2690)              809690    \n",
      "=================================================================\n",
      "Total params: 1,379,890\n",
      "Trainable params: 1,379,890\n",
      "Non-trainable params: 0\n",
      "_________________________________________________________________\n"
     ]
    }
   ],
   "source": [
    "model.summary()"
   ]
  },
  {
   "cell_type": "code",
   "execution_count": 15,
   "metadata": {},
   "outputs": [
    {
     "name": "stdout",
     "output_type": "stream",
     "text": [
      "Epoch 1/100\n",
      "377/377 [==============================] - 4s 12ms/step - loss: 1.0069 - accuracy: 0.7456\n",
      "Epoch 2/100\n",
      "377/377 [==============================] - 4s 12ms/step - loss: 0.9119 - accuracy: 0.7652\n",
      "Epoch 3/100\n",
      "377/377 [==============================] - 4s 12ms/step - loss: 0.8512 - accuracy: 0.7811\n",
      "Epoch 4/100\n",
      "377/377 [==============================] - 4s 12ms/step - loss: 0.8236 - accuracy: 0.7884\n",
      "Epoch 5/100\n",
      "377/377 [==============================] - 4s 12ms/step - loss: 0.8626 - accuracy: 0.7748\n",
      "Epoch 6/100\n",
      "377/377 [==============================] - 4s 12ms/step - loss: 0.9709 - accuracy: 0.7438\n",
      "Epoch 7/100\n",
      "377/377 [==============================] - 4s 12ms/step - loss: 1.0432 - accuracy: 0.7236\n",
      "Epoch 8/100\n",
      "377/377 [==============================] - 4s 12ms/step - loss: 1.0571 - accuracy: 0.7221\n",
      "Epoch 9/100\n",
      "377/377 [==============================] - 5s 12ms/step - loss: 1.0003 - accuracy: 0.7368\n",
      "Epoch 10/100\n",
      "377/377 [==============================] - 5s 12ms/step - loss: 0.8977 - accuracy: 0.7648\n",
      "Epoch 11/100\n",
      "377/377 [==============================] - 5s 12ms/step - loss: 0.8124 - accuracy: 0.7883\n",
      "Epoch 12/100\n",
      "377/377 [==============================] - 5s 12ms/step - loss: 0.8116 - accuracy: 0.7878\n",
      "Epoch 13/100\n",
      "377/377 [==============================] - 5s 12ms/step - loss: 0.8135 - accuracy: 0.7882\n",
      "Epoch 14/100\n",
      "377/377 [==============================] - 4s 12ms/step - loss: 0.8712 - accuracy: 0.7673\n",
      "Epoch 15/100\n",
      "377/377 [==============================] - 5s 12ms/step - loss: 0.9248 - accuracy: 0.7534\n",
      "Epoch 16/100\n",
      "377/377 [==============================] - 5s 12ms/step - loss: 0.9932 - accuracy: 0.7365\n",
      "Epoch 17/100\n",
      "377/377 [==============================] - 5s 12ms/step - loss: 0.9664 - accuracy: 0.7446\n",
      "Epoch 18/100\n",
      "377/377 [==============================] - 5s 12ms/step - loss: 0.9079 - accuracy: 0.7592\n",
      "Epoch 19/100\n",
      "377/377 [==============================] - 5s 12ms/step - loss: 0.8172 - accuracy: 0.7816\n",
      "Epoch 20/100\n",
      "377/377 [==============================] - 5s 12ms/step - loss: 0.7624 - accuracy: 0.7965\n",
      "Epoch 21/100\n",
      "377/377 [==============================] - 5s 12ms/step - loss: 0.7445 - accuracy: 0.8035\n",
      "Epoch 22/100\n",
      "377/377 [==============================] - 5s 12ms/step - loss: 0.7356 - accuracy: 0.8045\n",
      "Epoch 23/100\n",
      "377/377 [==============================] - 5s 12ms/step - loss: 0.7743 - accuracy: 0.7922\n",
      "Epoch 24/100\n",
      "377/377 [==============================] - 5s 12ms/step - loss: 0.8623 - accuracy: 0.7691\n",
      "Epoch 25/100\n",
      "377/377 [==============================] - 5s 12ms/step - loss: 1.0451 - accuracy: 0.7267\n",
      "Epoch 26/100\n",
      "377/377 [==============================] - 5s 12ms/step - loss: 1.0634 - accuracy: 0.7161\n",
      "Epoch 27/100\n",
      "377/377 [==============================] - 5s 12ms/step - loss: 0.9752 - accuracy: 0.7402\n",
      "Epoch 28/100\n",
      "377/377 [==============================] - 5s 12ms/step - loss: 0.9059 - accuracy: 0.7559\n",
      "Epoch 29/100\n",
      "377/377 [==============================] - 5s 12ms/step - loss: 0.8459 - accuracy: 0.7733\n",
      "Epoch 30/100\n",
      "377/377 [==============================] - 5s 12ms/step - loss: 0.7872 - accuracy: 0.7885\n",
      "Epoch 31/100\n",
      "377/377 [==============================] - 5s 12ms/step - loss: 0.7165 - accuracy: 0.8087\n",
      "Epoch 32/100\n",
      "377/377 [==============================] - 5s 12ms/step - loss: 0.7053 - accuracy: 0.8117\n",
      "Epoch 33/100\n",
      "377/377 [==============================] - 5s 12ms/step - loss: 0.7249 - accuracy: 0.8069\n",
      "Epoch 34/100\n",
      "377/377 [==============================] - 5s 12ms/step - loss: 0.8121 - accuracy: 0.7823\n",
      "Epoch 35/100\n",
      "377/377 [==============================] - 5s 12ms/step - loss: 0.9146 - accuracy: 0.7558\n",
      "Epoch 36/100\n",
      "377/377 [==============================] - 5s 12ms/step - loss: 1.0293 - accuracy: 0.7310\n",
      "Epoch 37/100\n",
      "377/377 [==============================] - 5s 12ms/step - loss: 1.0054 - accuracy: 0.7348\n",
      "Epoch 38/100\n",
      "377/377 [==============================] - 5s 12ms/step - loss: 0.9664 - accuracy: 0.7440\n",
      "Epoch 39/100\n",
      "377/377 [==============================] - 5s 12ms/step - loss: 0.9134 - accuracy: 0.7547\n",
      "Epoch 40/100\n",
      "377/377 [==============================] - 5s 12ms/step - loss: 0.8154 - accuracy: 0.7801\n",
      "Epoch 41/100\n",
      "377/377 [==============================] - 5s 12ms/step - loss: 0.7687 - accuracy: 0.7953\n",
      "Epoch 42/100\n",
      "377/377 [==============================] - 5s 12ms/step - loss: 0.7375 - accuracy: 0.8053\n",
      "Epoch 43/100\n",
      "377/377 [==============================] - 5s 12ms/step - loss: 0.7474 - accuracy: 0.7990\n",
      "Epoch 44/100\n",
      "377/377 [==============================] - 5s 12ms/step - loss: 0.7725 - accuracy: 0.7937\n",
      "Epoch 45/100\n",
      "377/377 [==============================] - 5s 12ms/step - loss: 0.8449 - accuracy: 0.7742\n",
      "Epoch 46/100\n",
      "377/377 [==============================] - 5s 12ms/step - loss: 0.9045 - accuracy: 0.7609\n",
      "Epoch 47/100\n",
      "377/377 [==============================] - 5s 12ms/step - loss: 0.9271 - accuracy: 0.7495\n",
      "Epoch 48/100\n",
      "377/377 [==============================] - 5s 12ms/step - loss: 0.9457 - accuracy: 0.7468\n",
      "Epoch 49/100\n",
      "377/377 [==============================] - 5s 12ms/step - loss: 0.9391 - accuracy: 0.7519\n",
      "Epoch 50/100\n",
      "377/377 [==============================] - 5s 12ms/step - loss: 0.8733 - accuracy: 0.7645\n",
      "Epoch 51/100\n",
      "377/377 [==============================] - 5s 12ms/step - loss: 0.7990 - accuracy: 0.7831\n",
      "Epoch 52/100\n",
      "377/377 [==============================] - 5s 12ms/step - loss: 0.7764 - accuracy: 0.7931\n",
      "Epoch 53/100\n",
      "377/377 [==============================] - 5s 12ms/step - loss: 0.7628 - accuracy: 0.7960\n",
      "Epoch 54/100\n",
      "377/377 [==============================] - 5s 12ms/step - loss: 0.7792 - accuracy: 0.7887\n",
      "Epoch 55/100\n",
      "377/377 [==============================] - 5s 12ms/step - loss: 0.8120 - accuracy: 0.7804\n",
      "Epoch 56/100\n",
      "377/377 [==============================] - 5s 12ms/step - loss: 0.8060 - accuracy: 0.7818\n",
      "Epoch 57/100\n",
      "377/377 [==============================] - 5s 12ms/step - loss: 0.7900 - accuracy: 0.7858\n",
      "Epoch 58/100\n",
      "377/377 [==============================] - 5s 12ms/step - loss: 0.7957 - accuracy: 0.7846\n",
      "Epoch 59/100\n",
      "377/377 [==============================] - 5s 12ms/step - loss: 0.7907 - accuracy: 0.7883\n",
      "Epoch 60/100\n",
      "377/377 [==============================] - 5s 12ms/step - loss: 0.8376 - accuracy: 0.7756\n",
      "Epoch 61/100\n",
      "377/377 [==============================] - 5s 12ms/step - loss: 0.9394 - accuracy: 0.7530\n",
      "Epoch 62/100\n",
      "377/377 [==============================] - 5s 12ms/step - loss: 1.1870 - accuracy: 0.7049\n",
      "Epoch 63/100\n",
      "377/377 [==============================] - 5s 12ms/step - loss: 0.9598 - accuracy: 0.7444\n",
      "Epoch 64/100\n",
      "377/377 [==============================] - 5s 13ms/step - loss: 0.8398 - accuracy: 0.7724\n",
      "Epoch 65/100\n",
      "377/377 [==============================] - 5s 13ms/step - loss: 0.7968 - accuracy: 0.7832\n",
      "Epoch 66/100\n",
      "377/377 [==============================] - 5s 12ms/step - loss: 0.7662 - accuracy: 0.7930\n",
      "Epoch 67/100\n",
      "377/377 [==============================] - 5s 13ms/step - loss: 0.7655 - accuracy: 0.7927\n",
      "Epoch 68/100\n",
      "377/377 [==============================] - 5s 12ms/step - loss: 0.8264 - accuracy: 0.7775\n",
      "Epoch 69/100\n",
      "377/377 [==============================] - 5s 13ms/step - loss: 0.8748 - accuracy: 0.7637\n",
      "Epoch 70/100\n",
      "377/377 [==============================] - 5s 13ms/step - loss: 0.8003 - accuracy: 0.7826\n",
      "Epoch 71/100\n",
      "377/377 [==============================] - 5s 13ms/step - loss: 0.7737 - accuracy: 0.7903\n",
      "Epoch 72/100\n",
      "377/377 [==============================] - 5s 13ms/step - loss: 0.7281 - accuracy: 0.8013\n",
      "Epoch 73/100\n",
      "377/377 [==============================] - 5s 13ms/step - loss: 0.7300 - accuracy: 0.8046\n",
      "Epoch 74/100\n",
      "377/377 [==============================] - 5s 13ms/step - loss: 0.7581 - accuracy: 0.7950\n",
      "Epoch 75/100\n",
      "377/377 [==============================] - 5s 13ms/step - loss: 0.7766 - accuracy: 0.7898\n",
      "Epoch 76/100\n",
      "377/377 [==============================] - 5s 13ms/step - loss: 0.7638 - accuracy: 0.7921\n",
      "Epoch 77/100\n",
      "377/377 [==============================] - 5s 13ms/step - loss: 0.7645 - accuracy: 0.7931\n",
      "Epoch 78/100\n",
      "377/377 [==============================] - 5s 13ms/step - loss: 0.8005 - accuracy: 0.7818\n",
      "Epoch 79/100\n",
      "377/377 [==============================] - 5s 13ms/step - loss: 0.9062 - accuracy: 0.7612\n",
      "Epoch 80/100\n",
      "377/377 [==============================] - 5s 13ms/step - loss: 1.0599 - accuracy: 0.7272\n",
      "Epoch 81/100\n",
      "377/377 [==============================] - 5s 13ms/step - loss: 1.0109 - accuracy: 0.7299\n",
      "Epoch 82/100\n",
      "377/377 [==============================] - 5s 13ms/step - loss: 0.8684 - accuracy: 0.7673\n",
      "Epoch 83/100\n",
      "377/377 [==============================] - 5s 13ms/step - loss: 0.7711 - accuracy: 0.7918\n",
      "Epoch 84/100\n",
      "377/377 [==============================] - 5s 13ms/step - loss: 0.7314 - accuracy: 0.8004\n",
      "Epoch 85/100\n",
      "377/377 [==============================] - 5s 13ms/step - loss: 0.6905 - accuracy: 0.8109\n",
      "Epoch 86/100\n",
      "377/377 [==============================] - 5s 13ms/step - loss: 0.6914 - accuracy: 0.8128\n",
      "Epoch 87/100\n",
      "377/377 [==============================] - 5s 13ms/step - loss: 0.7054 - accuracy: 0.8103\n",
      "Epoch 88/100\n",
      "377/377 [==============================] - 5s 13ms/step - loss: 0.7741 - accuracy: 0.7888\n",
      "Epoch 89/100\n",
      "377/377 [==============================] - 5s 13ms/step - loss: 0.8238 - accuracy: 0.7745\n",
      "Epoch 90/100\n",
      "377/377 [==============================] - 5s 13ms/step - loss: 0.9054 - accuracy: 0.7589\n",
      "Epoch 91/100\n",
      "377/377 [==============================] - 5s 13ms/step - loss: 0.8923 - accuracy: 0.7630\n",
      "Epoch 92/100\n",
      "377/377 [==============================] - 5s 13ms/step - loss: 0.8844 - accuracy: 0.7637\n",
      "Epoch 93/100\n",
      "377/377 [==============================] - 5s 13ms/step - loss: 0.8526 - accuracy: 0.7729\n",
      "Epoch 94/100\n",
      "377/377 [==============================] - 5s 13ms/step - loss: 0.8071 - accuracy: 0.7813\n",
      "Epoch 95/100\n",
      "377/377 [==============================] - 5s 13ms/step - loss: 0.7676 - accuracy: 0.7918\n",
      "Epoch 96/100\n",
      "377/377 [==============================] - 5s 14ms/step - loss: 0.7639 - accuracy: 0.7932\n",
      "Epoch 97/100\n",
      "377/377 [==============================] - 5s 14ms/step - loss: 0.7634 - accuracy: 0.7941\n",
      "Epoch 98/100\n",
      "377/377 [==============================] - 5s 14ms/step - loss: 0.7410 - accuracy: 0.7974\n",
      "Epoch 99/100\n",
      "377/377 [==============================] - 5s 14ms/step - loss: 0.7104 - accuracy: 0.8062\n",
      "Epoch 100/100\n",
      "377/377 [==============================] - 5s 14ms/step - loss: 0.7039 - accuracy: 0.8079\n"
     ]
    },
    {
     "data": {
      "text/plain": [
       "<tensorflow.python.keras.callbacks.History at 0x7f1fe8579c10>"
      ]
     },
     "execution_count": 15,
     "metadata": {},
     "output_type": "execute_result"
    }
   ],
   "source": [
    "model.fit(xs,ys,epochs=100)"
   ]
  },
  {
   "cell_type": "markdown",
   "metadata": {},
   "source": [
    "### Plotting Model Progress"
   ]
  },
  {
   "cell_type": "code",
   "execution_count": 16,
   "metadata": {},
   "outputs": [
    {
     "data": {
      "image/png": "[encoded data removed]",
      "text/plain": [
       "<Figure size 432x288 with 1 Axes>"
      ]
     },
     "metadata": {
      "needs_background": "light"
     },
     "output_type": "display_data"
    }
   ],
   "source": [
    "history=model.history\n",
    "plt.plot(history.history['accuracy'])\n",
    "plt.xlabel(\"Epochs\")\n",
    "plt.ylabel(\"Accuracy\")\n",
    "plt.show()"
   ]
  },
  {
   "cell_type": "markdown",
   "metadata": {},
   "source": [
    "# Create Your Own Poem"
   ]
  },
  {
   "cell_type": "code",
   "execution_count": 18,
   "metadata": {},
   "outputs": [
    {
     "name": "stdin",
     "output_type": "stream",
     "text": [
      "Enter size of poem to generate(words): 200\n",
      "Enter Starting Words for your poem: hello\n"
     ]
    },
    {
     "name": "stdout",
     "output_type": "stream",
     "text": [
      "\n",
      "...Generating Poem...\n",
      "\n",
      "WARNING:tensorflow:From <ipython-input-18-4916704b184b>:10: Sequential.predict_classes (from tensorflow.python.keras.engine.sequential) is deprecated and will be removed after 2021-01-01.\n",
      "Instructions for updating:\n",
      "Please use instead:* `np.argmax(model.predict(x), axis=-1)`,   if your model does multi-class classification   (e.g. if it uses a `softmax` last-layer activation).* `(model.predict(x) > 0.5).astype(\"int32\")`,   if your model does binary classification   (e.g. if it uses a `sigmoid` last-layer activation).\n",
      "hello on the windswept harbour wall surely hear you can hear the wind,\n",
      " high had sons love love return and gone and left me,\n",
      " by care love love return back of ban new hear me,\n",
      " bond all away your eyes there your solemn transparently gone gone,\n",
      " away and your love and love be love and ill love,\n",
      " be lazy and mussels alive alive alive and alive alive o,\n",
      " railroad sinking eyes you treasures with visit love and ill love,\n",
      " be love and your courteous da da da da dying lamenting,\n",
      " stood and gone eyes gone and gone gone love and gone,\n",
      " love and bravry will warm with warning heartfrom joys o inheritance,\n",
      " died and they died and gone and gone and with thee,\n",
      " love the wheel gone and gone and i writin a writin,\n",
      " aloft in gone and gone away and died and with love,\n",
      " be love love love grew with i very so dearly trial,\n",
      " then leaps to sinking rocky road down and then gone and,\n",
      " shes avoidin all foolish frivolity stainless by our wall beguile sea,\n",
      " alive and high may court her attend thee up and gone,\n",
      " and gone and with thee up gone gone and left me,\n",
      "...\n"
     ]
    }
   ],
   "source": [
    "size=int(input(\"Enter size of poem to generate(words):\"))\n",
    "start=input(\"Enter Starting Words for your poem:\")\n",
    "decoder=dict([(v,k) for (k,v) in tokenizer.word_index.items()])\n",
    "next_words=size-len(start.split())\n",
    "count=0\n",
    "print(\"\\n...Generating Poem...\\n\")\n",
    "for _ in range(next_words):\n",
    "    tokens=tokenizer.texts_to_sequences([start])[0]\n",
    "    pad=pad_sequences([tokens],maxlen=max_length-1)\n",
    "    word_token=model.predict_classes(pad,verbose=0)[0]\n",
    "    #print(word_token)\n",
    "    word=decoder[word_token]\n",
    "    start+=\" \"+word\n",
    "    if count>10:\n",
    "        count=0\n",
    "        start+=\",\\n\"\n",
    "    count+=1\n",
    "print(start+\"...\")"
   ]
  },
  {
   "cell_type": "code",
   "execution_count": null,
   "metadata": {},
   "outputs": [],
   "source": []
  },
  {
   "cell_type": "code",
   "execution_count": null,
   "metadata": {},
   "outputs": [],
   "source": []
  }
 ],
 "metadata": {
  "kernelspec": {
   "display_name": "Python 3",
   "language": "python",
   "name": "python3"
  },
  "language_info": {
   "codemirror_mode": {
    "name": "ipython",
    "version": 3
   },
   "file_extension": ".py",
   "mimetype": "text/x-python",
   "name": "python",
   "nbconvert_exporter": "python",
   "pygments_lexer": "ipython3",
   "version": "3.8.2"
  }
 },
 "nbformat": 4,
 "nbformat_minor": 4
}
